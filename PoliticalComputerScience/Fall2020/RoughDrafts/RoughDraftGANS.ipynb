{
  "nbformat": 4,
  "nbformat_minor": 0,
  "metadata": {
    "colab": {
      "name": "ActualGANS",
      "provenance": []
    },
    "kernelspec": {
      "name": "python3",
      "display_name": "Python 3"
    },
    "accelerator": "GPU"
  },
  "cells": [
    {
      "cell_type": "code",
      "metadata": {
        "id": "Dt64RO9laHkA"
      },
      "source": [
        "%tensorflow_version 1.6\n",
        "import os\n",
        "import numpy as np\n",
        "from tqdm import tqdm\n",
        "import matplotlib.pyplot as plt\n",
        "import keras\n",
        "import tensorflow as tf\n",
        "from keras.layers import Input, BatchNormalization\n",
        "from keras.models import Model, Sequential\n",
        "from keras.layers.core import Reshape, Dense, Dropout, Flatten\n",
        "from keras.layers.advanced_activations import LeakyReLU\n",
        "from keras.layers.convolutional import Conv2D, UpSampling2D\n",
        "from keras.datasets import mnist\n",
        "from keras.optimizers import Adam\n",
        "from keras import backend as K\n",
        "from keras import initializers"
      ],
      "execution_count": null,
      "outputs": []
    },
    {
      "cell_type": "code",
      "metadata": {
        "id": "rtgg9ue-hFWy"
      },
      "source": [
        "print(tf.__version__)\n",
        "keras.backend.image_data_format()\n",
        "latent_dimension = 100\n",
        "\n",
        "(X_train, y_train), (X_test, y_test) = mnist.load_data()\n",
        "X_train = (X_train.astype(np.float32) - 127.5)/127.5\n",
        "X_train = X_train[:, np.newaxis, :, :]\n",
        "adam = Adam(lr=0.00025, beta_1=0.7)\n",
        "\n",
        "# Generator Model\n",
        "# Transforms the input into a 7 × 7 256-channel feature map\n",
        "generator = Sequential()\n",
        "generator.add(Dense(256*7*7, input_dim=latent_dimension))\n",
        "generator.add(LeakyReLU(0.2))\n",
        "generator.add(BatchNormalization())\n",
        "generator.add(Reshape((256, 7, 7)))\n",
        "generator.add(UpSampling2D(size=(2, 2), data_format='channels_first'))\n",
        "generator.add(Conv2D(64, kernel_size=(5, 5), padding='same', data_format='channels_first'))\n",
        "generator.add(LeakyReLU(0.2))\n",
        "generator.add(BatchNormalization())\n",
        "generator.add(UpSampling2D(size=(2, 2), data_format='channels_first'))\n",
        "generator.add(Conv2D(1, kernel_size=(5, 5), padding='same', activation='tanh', data_format='channels_first'))\n",
        "print(generator.summary())\n",
        "generator.compile(loss='binary_crossentropy', optimizer=adam)\n",
        "\n",
        "# Discriminator Model\n",
        "discriminator = Sequential()\n",
        "discriminator.add(Conv2D(64, kernel_size=(5, 5), strides=(1, 1), padding='same', \n",
        "                         input_shape=(1, 28, 28), data_format='channels_first',\n",
        "                         kernel_initializer=initializers.RandomNormal(stddev=0.02)))\n",
        "discriminator.add(LeakyReLU(0.2))\n",
        "discriminator.add(BatchNormalization())\n",
        "discriminator.add(Dropout(0.2))\n",
        "discriminator.add(Conv2D(256, kernel_size=(5, 5), strides=(2, 2), \n",
        "                         padding='same', data_format='channels_first'))\n",
        "discriminator.add(LeakyReLU(0.2))\n",
        "discriminator.add(BatchNormalization())\n",
        "discriminator.add(Dropout(0.2))\n",
        "discriminator.add(Flatten())\n",
        "discriminator.add(Dense(1, activation='sigmoid'))\n",
        "print(discriminator.summary())\n",
        "discriminator.compile(loss='binary_crossentropy', optimizer=adam)\n",
        "\n",
        "# Adversarial Network Creation\n",
        "discriminator.trainable = False\n",
        "ganInput = Input(shape=(latent_dimension,))\n",
        "x = generator(ganInput)\n",
        "ganOutput = discriminator(x)\n",
        "gan = Model(inputs=ganInput, outputs=ganOutput)\n",
        "gan.compile(loss='binary_crossentropy', optimizer=adam)"
      ],
      "execution_count": null,
      "outputs": []
    },
    {
      "cell_type": "code",
      "metadata": {
        "id": "SmKRtbRGhUOA"
      },
      "source": [
        "def plots(epoch, examples=100, dim=(10, 10), figsize=(10, 10)):\n",
        "    noise = np.random.normal(0, 1, size=[examples, latent_dimension])\n",
        "    generatedImages = generator.predict(noise)\n",
        "\n",
        "    plt.figure(figsize=figsize)\n",
        "    for i in range(generatedImages.shape[0]):\n",
        "        plt.subplot(dim[0], dim[1], i+1)\n",
        "        plt.imshow(generatedImages[i, 0], interpolation='nearest', cmap='gray_r')\n",
        "        plt.axis('off')\n",
        "    plt.tight_layout()\n",
        "    plt.savefig('images/pics_epoch_%d.png' % epoch)\n",
        "\n",
        "def save(epoch):\n",
        "    generator.save('models/generator_epoch_%d.h5' % epoch)\n",
        "    discriminator.save('models/discriminator_epoch_%d.h5' % epoch)"
      ],
      "execution_count": 3,
      "outputs": []
    },
    {
      "cell_type": "code",
      "metadata": {
        "id": "tXEH5xPtaQHI"
      },
      "source": [
        "epochs = 6\n",
        "batchSize = 128\n",
        "batchCount = X_train.shape[0] / batchSize\n",
        "\n",
        "for e in range(1, epochs):\n",
        "    print('Epoch %d' % e)\n",
        "    for i in tqdm(range(int(batchCount))):\n",
        "        # Creating input noise,images\n",
        "        noise = np.random.normal(0, 1, size=[batchSize, latent_dimension])\n",
        "        imageBatch = X_train[np.random.randint(0, X_train.shape[0], size=batchSize)]\n",
        "\n",
        "        # Creating wrong MNIST images\n",
        "        generatedImages = generator.predict(noise)\n",
        "        X = np.concatenate([imageBatch, generatedImages])\n",
        "\n",
        "        # Labels both data\n",
        "        yDis = np.zeros(2*batchSize)\n",
        "        \n",
        "        # One-sided label smoothing\n",
        "        yDis[:batchSize] = 0.9\n",
        "\n",
        "        # Discriminator\n",
        "        discriminator.trainable = True\n",
        "        dloss = discriminator.train_on_batch(X, yDis)\n",
        "\n",
        "        # Generator\n",
        "        noise = np.random.normal(0, 1, size=[batchSize, latent_dimension])\n",
        "        yGen = np.ones(batchSize)\n",
        "        discriminator.trainable = False\n",
        "        gloss = gan.train_on_batch(noise, yGen)\n",
        "\n",
        "    if e == 1 or e == epochs - 1:\n",
        "        plots(e)\n",
        "        save(e)\n"
      ],
      "execution_count": null,
      "outputs": []
    }
  ]
}