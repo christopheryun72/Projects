{
  "nbformat": 4,
  "nbformat_minor": 0,
  "metadata": {
    "colab": {
      "name": "SCJGANS.ipynb",
      "provenance": [],
      "collapsed_sections": []
    },
    "kernelspec": {
      "name": "python3",
      "display_name": "Python 3"
    },
    "accelerator": "GPU"
  },
  "cells": [
    {
      "cell_type": "code",
      "metadata": {
        "colab": {
          "base_uri": "https://localhost:8080/"
        },
        "id": "erHLN1iE-prT",
        "outputId": "f0e12c56-fd4f-471b-edd0-3d81c4b482c7"
      },
      "source": [
        "%tensorflow_version 1.6\n",
        "import os, sys\n",
        "from PIL import Image\n",
        "import numpy as np\n",
        "import keras\n",
        "from tqdm import tqdm\n",
        "import matplotlib.pyplot as plt\n",
        "import tensorflow as tf\n",
        "from keras.datasets import mnist\n",
        "from keras.optimizers import Adam\n",
        "from keras import backend as K\n",
        "from keras import initializers\n",
        "from keras.models import Model, Sequential\n",
        "from keras.layers.advanced_activations import LeakyReLU\n",
        "from keras.layers import Input, BatchNormalization\n",
        "from keras.layers.convolutional import Conv2D, UpSampling2D\n",
        "from keras.layers.core import Reshape, Dense, Dropout, Flatten"
      ],
      "execution_count": 1,
      "outputs": [
        {
          "output_type": "stream",
          "text": [
            "`%tensorflow_version` only switches the major version: 1.x or 2.x.\n",
            "You set: `1.6`. This will be interpreted as: `1.x`.\n",
            "\n",
            "\n",
            "TensorFlow 1.x selected.\n"
          ],
          "name": "stdout"
        },
        {
          "output_type": "stream",
          "text": [
            "Using TensorFlow backend.\n"
          ],
          "name": "stderr"
        }
      ]
    },
    {
      "cell_type": "code",
      "metadata": {
        "colab": {
          "base_uri": "https://localhost:8080/"
        },
        "id": "-htT4qnEe4gW",
        "outputId": "28e7f5b4-34ff-43ba-9e28-8fa60893b53c"
      },
      "source": [
        "from google.colab import drive\n",
        "drive.mount('/content/drive')"
      ],
      "execution_count": 2,
      "outputs": [
        {
          "output_type": "stream",
          "text": [
            "Drive already mounted at /content/drive; to attempt to forcibly remount, call drive.mount(\"/content/drive\", force_remount=True).\n"
          ],
          "name": "stdout"
        }
      ]
    },
    {
      "cell_type": "code",
      "metadata": {
        "id": "FIcHBRgL_5i8"
      },
      "source": [
        "path = \"/content/drive/My Drive/ClarenceThomasPics/\"\n",
        "dirs = os.listdir( path )\n",
        "newPath = '/content/drive/My Drive/ClarenceThomasResized/'\n",
        "\n",
        "def resize():\n",
        "  counter = 0\n",
        "  for item in dirs:\n",
        "      if os.path.isfile(path+item) and item.endswith(\".jpg\"):\n",
        "        im = Image.open(path+item)\n",
        "        f, e = os.path.splitext(path+item)\n",
        "        imResize = im.resize((200,200), Image.ANTIALIAS)\n",
        "        imResize.save(newPath + str(counter) + 'resized.jpg', 'JPEG', quality=90)\n",
        "        counter += 1\n",
        "resize()"
      ],
      "execution_count": 3,
      "outputs": []
    },
    {
      "cell_type": "code",
      "metadata": {
        "id": "Mpo8OK2qBG4J"
      },
      "source": [
        "directory = '/content/drive/My Drive/ClarenceThomasNoColor/'\n",
        "for filename in os.listdir(newPath):\n",
        "  if filename.endswith(\".jpg\"):\n",
        "    img = Image.open(newPath+filename).convert('LA')\n",
        "    img.save(directory+filename[:-3]+'png')"
      ],
      "execution_count": 4,
      "outputs": []
    },
    {
      "cell_type": "code",
      "metadata": {
        "colab": {
          "base_uri": "https://localhost:8080/"
        },
        "id": "5dmDHmax4InJ",
        "outputId": "6093c643-9cd3-4ac0-9f2c-41747fc2b2e8"
      },
      "source": [
        "X_train = []\n",
        "for filename in os.listdir(directory)[:-100]:\n",
        "  print(filename)\n",
        "  if filename.endswith(\".png\"):\n",
        "    img = Image.open(directory+filename)\n",
        "    imgArray = np.array(img)\n",
        "    fileTemp = []\n",
        "    for row in imgArray:\n",
        "      rowTemp = []\n",
        "      for pix in row:\n",
        "        rowTemp.append(pix[0])\n",
        "      fileTemp.append(rowTemp)\n",
        "    X_train.append(fileTemp)"
      ],
      "execution_count": 5,
      "outputs": [
        {
          "output_type": "stream",
          "text": [
            "0resized.png\n",
            "14resized.png\n",
            "29resized.png\n",
            "44resized.png\n",
            "59resized.png\n",
            "1resized.png\n",
            "15resized.png\n",
            "30resized.png\n",
            "45resized.png\n",
            "60resized.png\n",
            "2resized.png\n",
            "16resized.png\n",
            "31resized.png\n",
            "46resized.png\n",
            "61resized.png\n",
            "3resized.png\n",
            "17resized.png\n",
            "32resized.png\n",
            "47resized.png\n",
            "62resized.png\n",
            "4resized.png\n",
            "18resized.png\n",
            "33resized.png\n",
            "48resized.png\n",
            "63resized.png\n",
            "5resized.png\n",
            "19resized.png\n",
            "34resized.png\n",
            "49resized.png\n",
            "64resized.png\n",
            "20resized.png\n",
            "6resized.png\n",
            "35resized.png\n",
            "50resized.png\n",
            "65resized.png\n",
            "21resized.png\n",
            "7resized.png\n",
            "36resized.png\n",
            "51resized.png\n",
            "66resized.png\n",
            "22resized.png\n",
            "8resized.png\n",
            "37resized.png\n",
            "74resized.png\n",
            "52resized.png\n",
            "67resized.png\n",
            "23resized.png\n",
            "89resized.png\n",
            "9resized.png\n",
            "38resized.png\n",
            "75resized.png\n",
            "53resized.png\n",
            "68resized.png\n",
            "24resized.png\n",
            "90resized.png\n",
            "10resized.png\n",
            "39resized.png\n",
            "76resized.png\n",
            "54resized.png\n",
            "69resized.png\n",
            "25resized.png\n",
            "40resized.png\n",
            "104resized.png\n",
            "11resized.png\n",
            "77resized.png\n",
            "91resized.png\n",
            "119resized.png\n",
            "55resized.png\n",
            "70resized.png\n",
            "26resized.png\n",
            "105resized.png\n",
            "41resized.png\n",
            "12resized.png\n",
            "78resized.png\n",
            "120resized.png\n",
            "92resized.png\n",
            "56resized.png\n",
            "71resized.png\n",
            "27resized.png\n",
            "106resized.png\n",
            "13resized.png\n",
            "79resized.png\n",
            "93resized.png\n",
            "121resized.png\n",
            "42resized.png\n",
            "134resized.png\n",
            "57resized.png\n",
            "72resized.png\n",
            "28resized.png\n",
            "149resized.png\n",
            "107resized.png\n",
            "122resized.png\n",
            "94resized.png\n",
            "80resized.png\n",
            "43resized.png\n",
            "135resized.png\n",
            "58resized.png\n",
            "73resized.png\n",
            "164resized.png\n",
            "150resized.png\n",
            "123resized.png\n",
            "95resized.png\n",
            "108resized.png\n",
            "136resized.png\n",
            "81resized.png\n",
            "179resized.png\n",
            "209resized.png\n",
            "194resized.png\n",
            "165resized.png\n",
            "151resized.png\n",
            "124resized.png\n",
            "137resized.png\n",
            "96resized.png\n",
            "82resized.png\n",
            "109resized.png\n",
            "180resized.png\n",
            "210resized.png\n",
            "195resized.png\n",
            "166resized.png\n",
            "125resized.png\n",
            "152resized.png\n",
            "138resized.png\n",
            "83resized.png\n",
            "97resized.png\n",
            "196resized.png\n",
            "211resized.png\n",
            "181resized.png\n",
            "110resized.png\n",
            "167resized.png\n",
            "153resized.png\n",
            "126resized.png\n",
            "84resized.png\n",
            "98resized.png\n",
            "139resized.png\n",
            "197resized.png\n",
            "212resized.png\n",
            "182resized.png\n",
            "111resized.png\n",
            "154resized.png\n",
            "127resized.png\n",
            "85resized.png\n",
            "99resized.png\n",
            "140resized.png\n",
            "198resized.png\n",
            "168resized.png\n",
            "213resized.png\n",
            "112resized.png\n",
            "183resized.png\n",
            "128resized.png\n",
            "155resized.png\n",
            "86resized.png\n",
            "100resized.png\n",
            "199resized.png\n",
            "214resized.png\n",
            "169resized.png\n",
            "113resized.png\n",
            "141resized.png\n",
            "184resized.png\n",
            "129resized.png\n",
            "156resized.png\n",
            "87resized.png\n",
            "101resized.png\n",
            "170resized.png\n",
            "215resized.png\n",
            "200resized.png\n",
            "114resized.png\n",
            "142resized.png\n",
            "185resized.png\n",
            "130resized.png\n",
            "88resized.png\n",
            "102resized.png\n",
            "157resized.png\n",
            "201resized.png\n",
            "171resized.png\n",
            "216resized.png\n",
            "115resized.png\n",
            "143resized.png\n",
            "186resized.png\n",
            "131resized.png\n",
            "103resized.png\n",
            "224resized.png\n",
            "202resized.png\n",
            "217resized.png\n",
            "158resized.png\n",
            "172resized.png\n",
            "116resized.png\n",
            "187resized.png\n",
            "144resized.png\n",
            "132resized.png\n",
            "225resized.png\n",
            "239resized.png\n",
            "159resized.png\n",
            "203resized.png\n",
            "218resized.png\n",
            "173resized.png\n",
            "117resized.png\n",
            "188resized.png\n",
            "145resized.png\n",
            "133resized.png\n",
            "240resized.png\n",
            "226resized.png\n",
            "174resized.png\n",
            "219resized.png\n",
            "118resized.png\n",
            "160resized.png\n",
            "204resized.png\n",
            "189resized.png\n",
            "254resized.png\n",
            "146resized.png\n",
            "241resized.png\n",
            "227resized.png\n",
            "269resized.png\n",
            "161resized.png\n",
            "220resized.png\n",
            "205resized.png\n",
            "190resized.png\n",
            "147resized.png\n",
            "175resized.png\n",
            "242resized.png\n",
            "228resized.png\n",
            "270resized.png\n",
            "206resized.png\n",
            "162resized.png\n",
            "221resized.png\n",
            "191resized.png\n",
            "148resized.png\n",
            "176resized.png\n",
            "255resized.png\n",
            "243resized.png\n",
            "229resized.png\n",
            "207resized.png\n",
            "271resized.png\n",
            "163resized.png\n",
            "284resized.png\n",
            "192resized.png\n",
            "222resized.png\n",
            "256resized.png\n",
            "177resized.png\n",
            "244resized.png\n",
            "230resized.png\n",
            "299resized.png\n",
            "208resized.png\n",
            "272resized.png\n",
            "285resized.png\n",
            "193resized.png\n",
            "223resized.png\n",
            "178resized.png\n",
            "245resized.png\n",
            "231resized.png\n",
            "257resized.png\n",
            "300resized.png\n",
            "286resized.png\n",
            "273resized.png\n",
            "314resized.png\n",
            "329resized.png\n",
            "359resized.png\n",
            "344resized.png\n",
            "258resized.png\n",
            "246resized.png\n",
            "232resized.png\n",
            "301resized.png\n",
            "287resized.png\n",
            "274resized.png\n",
            "330resized.png\n",
            "315resized.png\n",
            "360resized.png\n",
            "345resized.png\n",
            "247resized.png\n",
            "259resized.png\n",
            "233resized.png\n",
            "302resized.png\n",
            "288resized.png\n",
            "275resized.png\n",
            "331resized.png\n",
            "316resized.png\n",
            "361resized.png\n",
            "346resized.png\n",
            "248resized.png\n",
            "260resized.png\n",
            "234resized.png\n",
            "303resized.png\n",
            "289resized.png\n",
            "332resized.png\n",
            "362resized.png\n",
            "276resized.png\n",
            "317resized.png\n",
            "261resized.png\n",
            "347resized.png\n",
            "249resized.png\n",
            "235resized.png\n",
            "304resized.png\n",
            "290resized.png\n",
            "333resized.png\n",
            "277resized.png\n",
            "363resized.png\n",
            "262resized.png\n",
            "318resized.png\n",
            "305resized.png\n",
            "250resized.png\n",
            "348resized.png\n",
            "291resized.png\n",
            "236resized.png\n",
            "334resized.png\n",
            "364resized.png\n",
            "278resized.png\n",
            "263resized.png\n",
            "251resized.png\n",
            "306resized.png\n",
            "237resized.png\n",
            "349resized.png\n",
            "292resized.png\n",
            "335resized.png\n",
            "365resized.png\n",
            "279resized.png\n",
            "264resized.png\n",
            "307resized.png\n",
            "252resized.png\n",
            "319resized.png\n",
            "293resized.png\n",
            "238resized.png\n",
            "350resized.png\n",
            "336resized.png\n",
            "366resized.png\n",
            "280resized.png\n",
            "308resized.png\n",
            "265resized.png\n",
            "253resized.png\n",
            "320resized.png\n",
            "294resized.png\n",
            "374resized.png\n",
            "351resized.png\n",
            "337resized.png\n",
            "367resized.png\n",
            "281resized.png\n",
            "309resized.png\n",
            "389resized.png\n",
            "321resized.png\n",
            "266resized.png\n",
            "295resized.png\n",
            "375resized.png\n",
            "338resized.png\n",
            "352resized.png\n",
            "282resized.png\n",
            "368resized.png\n",
            "310resized.png\n",
            "390resized.png\n",
            "267resized.png\n",
            "322resized.png\n",
            "376resized.png\n",
            "296resized.png\n",
            "353resized.png\n",
            "339resized.png\n",
            "369resized.png\n",
            "283resized.png\n",
            "268resized.png\n",
            "311resized.png\n",
            "391resized.png\n",
            "297resized.png\n",
            "377resized.png\n",
            "323resized.png\n",
            "354resized.png\n",
            "340resized.png\n",
            "370resized.png\n",
            "404resized.png\n",
            "419resized.png\n",
            "312resized.png\n",
            "378resized.png\n",
            "324resized.png\n",
            "392resized.png\n",
            "298resized.png\n",
            "355resized.png\n",
            "341resized.png\n",
            "371resized.png\n",
            "405resized.png\n",
            "313resized.png\n",
            "420resized.png\n",
            "379resized.png\n",
            "393resized.png\n",
            "434resized.png\n",
            "325resized.png\n",
            "356resized.png\n",
            "342resized.png\n",
            "406resized.png\n",
            "372resized.png\n",
            "449resized.png\n",
            "421resized.png\n",
            "380resized.png\n",
            "394resized.png\n",
            "326resized.png\n",
            "435resized.png\n",
            "357resized.png\n",
            "373resized.png\n",
            "343resized.png\n",
            "407resized.png\n",
            "450resized.png\n",
            "422resized.png\n",
            "381resized.png\n",
            "395resized.png\n",
            "327resized.png\n",
            "436resized.png\n",
            "358resized.png\n",
            "464resized.png\n",
            "479resized.png\n",
            "423resized.png\n",
            "451resized.png\n",
            "408resized.png\n",
            "396resized.png\n",
            "382resized.png\n",
            "328resized.png\n",
            "437resized.png\n",
            "494resized.png\n",
            "465resized.png\n",
            "424resized.png\n",
            "480resized.png\n",
            "409resized.png\n",
            "452resized.png\n",
            "397resized.png\n",
            "383resized.png\n",
            "438resized.png\n",
            "509resized.png\n",
            "495resized.png\n",
            "466resized.png\n",
            "425resized.png\n",
            "410resized.png\n"
          ],
          "name": "stdout"
        }
      ]
    },
    {
      "cell_type": "code",
      "metadata": {
        "id": "qfnlEmsq9SkD"
      },
      "source": [
        "X_train=np.array([[[coord for coord in xk] for xk in xj] for xj in X_train], ndmin=3) #this case for N=3"
      ],
      "execution_count": 6,
      "outputs": []
    },
    {
      "cell_type": "code",
      "metadata": {
        "colab": {
          "base_uri": "https://localhost:8080/"
        },
        "id": "LQtYD_XE68TJ",
        "outputId": "eaafa92e-28fd-4db3-b7c7-07fc553e9c78"
      },
      "source": [
        "print(X_train)\n",
        "print(type(X_train[0]))\n",
        "print(type(X_train[0][0]))\n",
        "print(X_train.shape)"
      ],
      "execution_count": 7,
      "outputs": [
        {
          "output_type": "stream",
          "text": [
            "[[[ 88  88  89 ...  16  15  12]\n",
            "  [ 86  86  86 ...  14  15  14]\n",
            "  [ 84  85  85 ...  12  14  15]\n",
            "  ...\n",
            "  [108 107 107 ... 179 148 166]\n",
            "  [101 101 101 ... 161 157 186]\n",
            "  [ 96  96  97 ... 185 199 184]]\n",
            "\n",
            " [[ 13  15  17 ...  15  15  15]\n",
            "  [ 13  16  18 ...  15  15  15]\n",
            "  [ 14  16  19 ...  15  15  14]\n",
            "  ...\n",
            "  [ 13  10   8 ...   6   8   9]\n",
            "  [ 20  17  15 ...   4   6   7]\n",
            "  [ 22  19  17 ...  26  28  29]]\n",
            "\n",
            " [[  4   4   4 ...  23  22  22]\n",
            "  [  4   4   4 ...  23  22  22]\n",
            "  [  4   4   4 ...  23  22  22]\n",
            "  ...\n",
            "  [  7   6   6 ...  18  10   9]\n",
            "  [  7   6   6 ...   0   0   4]\n",
            "  [  7   6   6 ...  14  13   1]]\n",
            "\n",
            " ...\n",
            "\n",
            " [[234 234 234 ... 128 128 127]\n",
            "  [234 234 234 ... 130 129 128]\n",
            "  [234 234 234 ... 131 130 130]\n",
            "  ...\n",
            "  [215 215 216 ...  46  47  50]\n",
            "  [207 207 208 ...  42  42  46]\n",
            "  [200 201 201 ...  37  36  41]]\n",
            "\n",
            " [[  1   1   1 ...   2   2   2]\n",
            "  [  1   1   1 ...   2   2   2]\n",
            "  [  1   1   1 ...   2   2   2]\n",
            "  ...\n",
            "  [  1   1   1 ...  25  21  34]\n",
            "  [  1   1   1 ...  25  24  35]\n",
            "  [  1   1   1 ...  27  28  34]]\n",
            "\n",
            " [[  8   8   8 ...   8   8   8]\n",
            "  [  8   8   8 ...   8   8   8]\n",
            "  [  8   8   8 ...   8   8   8]\n",
            "  ...\n",
            "  [ 46  51  53 ...   7   8   9]\n",
            "  [ 47  52  53 ...   7   8   9]\n",
            "  [ 48  53  54 ...   7   8   9]]]\n",
            "<class 'numpy.ndarray'>\n",
            "<class 'numpy.ndarray'>\n",
            "(424, 200, 200)\n"
          ],
          "name": "stdout"
        }
      ]
    },
    {
      "cell_type": "code",
      "metadata": {
        "id": "Zt5MyRf0Xy7L",
        "colab": {
          "base_uri": "https://localhost:8080/"
        },
        "outputId": "ed96f86b-9b97-4309-c037-861133e19292"
      },
      "source": [
        "totLength = len(os.listdir(directory))\n",
        "totLength"
      ],
      "execution_count": 8,
      "outputs": [
        {
          "output_type": "execute_result",
          "data": {
            "text/plain": [
              "524"
            ]
          },
          "metadata": {
            "tags": []
          },
          "execution_count": 8
        }
      ]
    },
    {
      "cell_type": "code",
      "metadata": {
        "id": "BtrE5O_RXQCu"
      },
      "source": [
        "X_test = []\n",
        "for filename in os.listdir(directory)[-100:]:\n",
        "  tempArray = []\n",
        "  if filename.endswith(\".png\"):\n",
        "    img = Image.open(directory+filename)\n",
        "    imgArray = np.asarray(img)\n",
        "    for row in imgArray:\n",
        "      rowTemp = []\n",
        "      for pix in row:\n",
        "        pix = np.ndarray.tolist(pix[:1])[0]\n",
        "        rowTemp.append(pix)\n",
        "      tempArray.append(rowTemp)\n",
        "    X_test.append(tempArray)\n",
        "  else:\n",
        "    continue"
      ],
      "execution_count": 9,
      "outputs": []
    },
    {
      "cell_type": "code",
      "metadata": {
        "id": "-CXjckZld7dV",
        "colab": {
          "base_uri": "https://localhost:8080/"
        },
        "outputId": "5578456c-cd4a-4caa-b4d1-95fbff223a5b"
      },
      "source": [
        "X_test=np.array([[[coord for coord in xk] for xk in xj] for xj in X_test], ndmin=3) #this case for N=3\n",
        "\n",
        "print(type(X_test))\n",
        "print(type(X_test[0]))\n",
        "print(X_test.shape)\n"
      ],
      "execution_count": 10,
      "outputs": [
        {
          "output_type": "stream",
          "text": [
            "<class 'numpy.ndarray'>\n",
            "<class 'numpy.ndarray'>\n",
            "(100, 200, 200)\n"
          ],
          "name": "stdout"
        }
      ]
    },
    {
      "cell_type": "code",
      "metadata": {
        "id": "v_OcwHueZDf2",
        "colab": {
          "base_uri": "https://localhost:8080/"
        },
        "outputId": "cbd40f1c-47b8-4442-a814-5e666e437a80"
      },
      "source": [
        "y_train, y_test = np.asarray([1 for i in range(totLength - 100)]), np.asarray([1 for i in range(totLength-100, totLength)])\n",
        "print(y_train[0])\n",
        "print(type(X_train))"
      ],
      "execution_count": 11,
      "outputs": [
        {
          "output_type": "stream",
          "text": [
            "1\n",
            "<class 'numpy.ndarray'>\n"
          ],
          "name": "stdout"
        }
      ]
    },
    {
      "cell_type": "code",
      "metadata": {
        "id": "ipbDCcq4-tXc",
        "colab": {
          "base_uri": "https://localhost:8080/"
        },
        "outputId": "d859482d-acec-4c06-bea5-1bfba4b8c3a2"
      },
      "source": [
        "print(tf.__version__)\n",
        "keras.backend.image_data_format()\n",
        "latent_dimension = 100\n",
        "\n",
        "X_train = (X_train.astype(np.float32) - 127.5)/127.5\n",
        "X_train = X_train[:, np.newaxis,:64, :64]\n",
        "#X_train = X_train[:, np.newaxis,:24, :24]\n",
        "print(X_train.shape)\n",
        "adam = Adam(lr=0.00025, beta_1=0.7)\n",
        "\n",
        "#Rough Draft Model\n",
        "\"\"\"\n",
        "generator = Sequential()\n",
        "generator.add(Dense(128*6*6, input_dim=latent_dimension))\n",
        "generator.add(LeakyReLU(0.175))\n",
        "generator.add(Reshape((128, 6, 6)))\n",
        "generator.add(BatchNormalization())\n",
        "generator.add(UpSampling2D(size=(2, 2), data_format='channels_first'))\n",
        "generator.add(Conv2D(64, kernel_size=(4, 4), padding='same', data_format='channels_first'))\n",
        "generator.add(LeakyReLU(0.175))\n",
        "generator.add(UpSampling2D(size=(2, 2), data_format='channels_first'))\n",
        "\n",
        "generator.add(Conv2D(1, kernel_size=(4, 4), padding='same', activation='tanh', data_format='channels_first'))\n",
        "print(generator.summary())\n",
        "generator.compile(loss='binary_crossentropy', optimizer=adam)\n",
        "\n",
        "# Discriminator Model\n",
        "discriminator = Sequential()\n",
        "discriminator.add(Conv2D(24, kernel_size=(4, 4), strides=(2, 2), padding='same', \n",
        "                         input_shape=(1, 24, 24), data_format='channels_first',\n",
        "                         kernel_initializer=initializers.RandomNormal(stddev=0.02)))\n",
        "discriminator.add(LeakyReLU(0.175))\n",
        "discriminator.add(Dropout(0.15))\n",
        "discriminator.add(BatchNormalization())\n",
        "discriminator.add(Conv2D(128, kernel_size=(4, 4), strides=(2, 2), \n",
        "                         padding='same', data_format='channels_first'))\n",
        "discriminator.add(LeakyReLU(0.175))\n",
        "discriminator.add(Dropout(0.15))\n",
        "\n",
        "discriminator.add(Flatten())\n",
        "discriminator.add(Dense(1, activation='sigmoid'))\n",
        "print(discriminator.summary())\n",
        "discriminator.compile(loss='binary_crossentropy', optimizer=adam)\n",
        "\"\"\"\n",
        "\n",
        "\n",
        "#\"\"\"\n",
        "generator = Sequential()\n",
        "\n",
        "generator.add(Dense(256*4*4, input_dim=latent_dimension, activation='relu'))\n",
        "generator.add(Reshape((256, 4, 4)))\n",
        "generator.add(UpSampling2D(size=(2, 2), data_format='channels_first'))\n",
        "\n",
        "generator.add(Conv2D(256, kernel_size=(3, 3), padding='same', data_format='channels_first'))\n",
        "generator.add(BatchNormalization(momentum=0.75))\n",
        "generator.add(LeakyReLU(0.1))\n",
        "generator.add(UpSampling2D(size=(2, 2), data_format='channels_first'))\n",
        "\n",
        "generator.add(Conv2D(256, kernel_size=(3, 3), padding='same', data_format='channels_first'))\n",
        "generator.add(BatchNormalization(momentum=0.75))\n",
        "generator.add(LeakyReLU(0.1))\n",
        "generator.add(UpSampling2D(size=(2, 2), data_format='channels_first'))\n",
        "\n",
        "generator.add(Conv2D(128, kernel_size=(3, 3), padding='same', data_format='channels_first'))\n",
        "generator.add(BatchNormalization(momentum=0.75))\n",
        "generator.add(LeakyReLU(0.1))\n",
        "generator.add(UpSampling2D(size=(2, 2), data_format='channels_first'))\n",
        "generator.add(Conv2D(128, kernel_size=(3, 3), padding='same', data_format='channels_first'))\n",
        "\n",
        "generator.add(BatchNormalization(momentum=0.75))\n",
        "generator.add(LeakyReLU(0.1))\n",
        "\n",
        "\n",
        "generator.add(Conv2D(1, kernel_size=(3, 3), padding='same', activation='tanh', data_format='channels_first'))\n",
        "print(generator.summary())\n",
        "generator.compile(loss='binary_crossentropy', optimizer=adam)\n",
        "\n",
        "# Discriminator Model\n",
        "discriminator = Sequential()\n",
        "discriminator.add(Conv2D(32, kernel_size=(3, 3), strides=(2, 2), padding='same', \n",
        "                         input_shape=(1, 64, 64), data_format='channels_first',\n",
        "                         kernel_initializer=initializers.RandomNormal(stddev=0.02)))\n",
        "discriminator.add(LeakyReLU(0.1))\n",
        "discriminator.add(Dropout(0.1))\n",
        "discriminator.add(Conv2D(64, kernel_size=(3, 3), strides=(2, 2), padding='same', data_format='channels_first'))\n",
        "discriminator.add(BatchNormalization(momentum=0.75))\n",
        "discriminator.add(LeakyReLU(0.1))\n",
        "\n",
        "discriminator.add(Dropout(0.1))\n",
        "discriminator.add(Conv2D(128, kernel_size=(3, 3), strides=(2, 2), padding='same', data_format='channels_first'))\n",
        "discriminator.add(BatchNormalization(momentum=0.75))\n",
        "discriminator.add(LeakyReLU(0.1))\n",
        "\n",
        "discriminator.add(Dropout(0.1))\n",
        "discriminator.add(Conv2D(256, kernel_size=(3, 3), strides=(2, 2), padding='same', data_format='channels_first'))\n",
        "discriminator.add(BatchNormalization(momentum=0.75))\n",
        "discriminator.add(LeakyReLU(0.1))\n",
        "\n",
        "discriminator.add(Dropout(0.1))\n",
        "discriminator.add(Conv2D(512, kernel_size=(3, 3), strides=(2, 2), padding='same', data_format='channels_first'))\n",
        "discriminator.add(BatchNormalization(momentum=0.75))\n",
        "discriminator.add(LeakyReLU(0.1))\n",
        "\n",
        "discriminator.add(Flatten())\n",
        "discriminator.add(Dense(1, activation='sigmoid'))\n",
        "print(discriminator.summary())\n",
        "discriminator.compile(loss='binary_crossentropy', optimizer=adam)\n",
        "#\"\"\"\n",
        "# Generator Model\n",
        "\n",
        "\n",
        "# Adversarial Network Creation\n",
        "gInput = Input(shape=(latent_dimension,))\n",
        "x = generator(gInput)\n",
        "discriminator.trainable = False\n",
        "gOutput = discriminator(x)\n",
        "gan = Model(inputs=gInput, outputs=gOutput)\n",
        "gan.compile(loss='binary_crossentropy', optimizer=adam)"
      ],
      "execution_count": 12,
      "outputs": [
        {
          "output_type": "stream",
          "text": [
            "1.15.2\n",
            "(424, 1, 64, 64)\n",
            "WARNING:tensorflow:From /tensorflow-1.15.2/python3.6/tensorflow_core/python/ops/resource_variable_ops.py:1630: calling BaseResourceVariable.__init__ (from tensorflow.python.ops.resource_variable_ops) with constraint is deprecated and will be removed in a future version.\n",
            "Instructions for updating:\n",
            "If using Keras pass *_constraint arguments to layers.\n",
            "Model: \"sequential_1\"\n",
            "_________________________________________________________________\n",
            "Layer (type)                 Output Shape              Param #   \n",
            "=================================================================\n",
            "dense_1 (Dense)              (None, 4096)              413696    \n",
            "_________________________________________________________________\n",
            "reshape_1 (Reshape)          (None, 256, 4, 4)         0         \n",
            "_________________________________________________________________\n",
            "up_sampling2d_1 (UpSampling2 (None, 256, 8, 8)         0         \n",
            "_________________________________________________________________\n",
            "conv2d_1 (Conv2D)            (None, 256, 8, 8)         590080    \n",
            "_________________________________________________________________\n",
            "batch_normalization_1 (Batch (None, 256, 8, 8)         32        \n",
            "_________________________________________________________________\n",
            "leaky_re_lu_1 (LeakyReLU)    (None, 256, 8, 8)         0         \n",
            "_________________________________________________________________\n",
            "up_sampling2d_2 (UpSampling2 (None, 256, 16, 16)       0         \n",
            "_________________________________________________________________\n",
            "conv2d_2 (Conv2D)            (None, 256, 16, 16)       590080    \n",
            "_________________________________________________________________\n",
            "batch_normalization_2 (Batch (None, 256, 16, 16)       64        \n",
            "_________________________________________________________________\n",
            "leaky_re_lu_2 (LeakyReLU)    (None, 256, 16, 16)       0         \n",
            "_________________________________________________________________\n",
            "up_sampling2d_3 (UpSampling2 (None, 256, 32, 32)       0         \n",
            "_________________________________________________________________\n",
            "conv2d_3 (Conv2D)            (None, 128, 32, 32)       295040    \n",
            "_________________________________________________________________\n",
            "batch_normalization_3 (Batch (None, 128, 32, 32)       128       \n",
            "_________________________________________________________________\n",
            "leaky_re_lu_3 (LeakyReLU)    (None, 128, 32, 32)       0         \n",
            "_________________________________________________________________\n",
            "up_sampling2d_4 (UpSampling2 (None, 128, 64, 64)       0         \n",
            "_________________________________________________________________\n",
            "conv2d_4 (Conv2D)            (None, 128, 64, 64)       147584    \n",
            "_________________________________________________________________\n",
            "batch_normalization_4 (Batch (None, 128, 64, 64)       256       \n",
            "_________________________________________________________________\n",
            "leaky_re_lu_4 (LeakyReLU)    (None, 128, 64, 64)       0         \n",
            "_________________________________________________________________\n",
            "conv2d_5 (Conv2D)            (None, 1, 64, 64)         1153      \n",
            "=================================================================\n",
            "Total params: 2,038,113\n",
            "Trainable params: 2,037,873\n",
            "Non-trainable params: 240\n",
            "_________________________________________________________________\n",
            "None\n",
            "Model: \"sequential_2\"\n",
            "_________________________________________________________________\n",
            "Layer (type)                 Output Shape              Param #   \n",
            "=================================================================\n",
            "conv2d_6 (Conv2D)            (None, 32, 32, 32)        320       \n",
            "_________________________________________________________________\n",
            "leaky_re_lu_5 (LeakyReLU)    (None, 32, 32, 32)        0         \n",
            "_________________________________________________________________\n",
            "dropout_1 (Dropout)          (None, 32, 32, 32)        0         \n",
            "_________________________________________________________________\n",
            "conv2d_7 (Conv2D)            (None, 64, 16, 16)        18496     \n",
            "_________________________________________________________________\n",
            "batch_normalization_5 (Batch (None, 64, 16, 16)        64        \n",
            "_________________________________________________________________\n",
            "leaky_re_lu_6 (LeakyReLU)    (None, 64, 16, 16)        0         \n",
            "_________________________________________________________________\n",
            "dropout_2 (Dropout)          (None, 64, 16, 16)        0         \n",
            "_________________________________________________________________\n",
            "conv2d_8 (Conv2D)            (None, 128, 8, 8)         73856     \n",
            "_________________________________________________________________\n",
            "batch_normalization_6 (Batch (None, 128, 8, 8)         32        \n",
            "_________________________________________________________________\n",
            "leaky_re_lu_7 (LeakyReLU)    (None, 128, 8, 8)         0         \n",
            "_________________________________________________________________\n",
            "dropout_3 (Dropout)          (None, 128, 8, 8)         0         \n",
            "_________________________________________________________________\n",
            "conv2d_9 (Conv2D)            (None, 256, 4, 4)         295168    \n",
            "_________________________________________________________________\n",
            "batch_normalization_7 (Batch (None, 256, 4, 4)         16        \n",
            "_________________________________________________________________\n",
            "leaky_re_lu_8 (LeakyReLU)    (None, 256, 4, 4)         0         \n",
            "_________________________________________________________________\n",
            "dropout_4 (Dropout)          (None, 256, 4, 4)         0         \n",
            "_________________________________________________________________\n",
            "conv2d_10 (Conv2D)           (None, 512, 2, 2)         1180160   \n",
            "_________________________________________________________________\n",
            "batch_normalization_8 (Batch (None, 512, 2, 2)         8         \n",
            "_________________________________________________________________\n",
            "leaky_re_lu_9 (LeakyReLU)    (None, 512, 2, 2)         0         \n",
            "_________________________________________________________________\n",
            "flatten_1 (Flatten)          (None, 2048)              0         \n",
            "_________________________________________________________________\n",
            "dense_2 (Dense)              (None, 1)                 2049      \n",
            "=================================================================\n",
            "Total params: 1,570,169\n",
            "Trainable params: 1,570,109\n",
            "Non-trainable params: 60\n",
            "_________________________________________________________________\n",
            "None\n",
            "WARNING:tensorflow:From /tensorflow-1.15.2/python3.6/tensorflow_core/python/ops/nn_impl.py:183: where (from tensorflow.python.ops.array_ops) is deprecated and will be removed in a future version.\n",
            "Instructions for updating:\n",
            "Use tf.where in 2.0, which has the same broadcast rule as np.where\n"
          ],
          "name": "stdout"
        }
      ]
    },
    {
      "cell_type": "code",
      "metadata": {
        "id": "agfPha_y-vwB"
      },
      "source": [
        "def save(epoch):\n",
        "    generator.save('models/generator_epoch_%d.h5' % epoch)\n",
        "    discriminator.save('models/discriminator_epoch_%d.h5' % epoch)\n",
        "\n",
        "def plots(epoch, dim=(12, 12), exs=100, figsize=(12, 12)):\n",
        "    noise = np.random.normal(0, 1, size=[exs, latent_dimension])\n",
        "    generatedImages = generator.predict(noise)\n",
        "\n",
        "    plt.figure(figsize=figsize)\n",
        "    for i in range(generatedImages.shape[0]):\n",
        "        plt.subplot(dim[0], dim[1], i+1)\n",
        "        plt.imshow(generatedImages[i, 0], interpolation='nearest', cmap='gray_r')\n",
        "        plt.axis('off')\n",
        "    plt.tight_layout()\n",
        "    plt.savefig('images/pics_epoch_%d.png' % epoch)"
      ],
      "execution_count": 13,
      "outputs": []
    },
    {
      "cell_type": "code",
      "metadata": {
        "id": "t_n5hvI9-wf0",
        "colab": {
          "base_uri": "https://localhost:8080/"
        },
        "outputId": "60b0fc9a-5829-4d1e-c6da-973ac4e4f95e"
      },
      "source": [
        "epochs = 15\n",
        "batchSize = 128\n",
        "batchCount = X_train.shape[0] / batchSize\n",
        "print(X_train.shape)\n",
        "\n",
        "for epoch in range(1, epochs):\n",
        "    print('Epoch %d' % epoch)\n",
        "    for i in tqdm(range(int(batchCount))):\n",
        "        # Creating input noise,images\n",
        "        noise = np.random.normal(0, 1, size=[batchSize, latent_dimension])\n",
        "        imageBatch = X_train[np.random.randint(0, X_train.shape[0], size=batchSize)]\n",
        "        print(imageBatch.ndim)\n",
        "        \n",
        "        # Creating wrong images\n",
        "        generatedImages = generator.predict(noise)\n",
        "        X = np.concatenate([imageBatch, generatedImages])\n",
        "\n",
        "        # Labels both data, Label smoothing\n",
        "        yDis = np.zeros(2*batchSize)\n",
        "        yDis[:batchSize] = 0.9\n",
        "\n",
        "        # Discriminator\n",
        "        discriminator.trainable = True\n",
        "        dloss = discriminator.train_on_batch(X, yDis)\n",
        "\n",
        "        # Generator\n",
        "        noise = np.random.normal(0, 1, size=[batchSize, latent_dimension])\n",
        "        discriminator.trainable = False\n",
        "        yGen = np.ones(batchSize)\n",
        "        gloss = gan.train_on_batch(noise, yGen)\n",
        "    #plots(epoch)\n",
        "    save(epoch)\n"
      ],
      "execution_count": 14,
      "outputs": [
        {
          "output_type": "stream",
          "text": [
            "\r  0%|          | 0/3 [00:00<?, ?it/s]"
          ],
          "name": "stderr"
        },
        {
          "output_type": "stream",
          "text": [
            "(424, 1, 64, 64)\n",
            "Epoch 1\n",
            "4\n",
            "WARNING:tensorflow:From /tensorflow-1.15.2/python3.6/keras/backend/tensorflow_backend.py:422: The name tf.global_variables is deprecated. Please use tf.compat.v1.global_variables instead.\n",
            "\n"
          ],
          "name": "stdout"
        },
        {
          "output_type": "stream",
          "text": [
            "\r 33%|███▎      | 1/3 [00:10<00:20, 10.39s/it]"
          ],
          "name": "stderr"
        },
        {
          "output_type": "stream",
          "text": [
            "4\n"
          ],
          "name": "stdout"
        },
        {
          "output_type": "stream",
          "text": [
            "\r 67%|██████▋   | 2/3 [00:10<00:07,  7.36s/it]"
          ],
          "name": "stderr"
        },
        {
          "output_type": "stream",
          "text": [
            "4\n"
          ],
          "name": "stdout"
        },
        {
          "output_type": "stream",
          "text": [
            "100%|██████████| 3/3 [00:10<00:00,  3.66s/it]\n",
            "  0%|          | 0/3 [00:00<?, ?it/s]"
          ],
          "name": "stderr"
        },
        {
          "output_type": "stream",
          "text": [
            "Epoch 2\n",
            "4\n"
          ],
          "name": "stdout"
        },
        {
          "output_type": "stream",
          "text": [
            "\r 33%|███▎      | 1/3 [00:00<00:00,  3.43it/s]"
          ],
          "name": "stderr"
        },
        {
          "output_type": "stream",
          "text": [
            "4\n"
          ],
          "name": "stdout"
        },
        {
          "output_type": "stream",
          "text": [
            "\r 67%|██████▋   | 2/3 [00:00<00:00,  3.43it/s]"
          ],
          "name": "stderr"
        },
        {
          "output_type": "stream",
          "text": [
            "4\n"
          ],
          "name": "stdout"
        },
        {
          "output_type": "stream",
          "text": [
            "100%|██████████| 3/3 [00:00<00:00,  3.40it/s]\n",
            "  0%|          | 0/3 [00:00<?, ?it/s]"
          ],
          "name": "stderr"
        },
        {
          "output_type": "stream",
          "text": [
            "Epoch 3\n",
            "4\n"
          ],
          "name": "stdout"
        },
        {
          "output_type": "stream",
          "text": [
            "\r 33%|███▎      | 1/3 [00:00<00:00,  3.42it/s]"
          ],
          "name": "stderr"
        },
        {
          "output_type": "stream",
          "text": [
            "4\n"
          ],
          "name": "stdout"
        },
        {
          "output_type": "stream",
          "text": [
            "\r 67%|██████▋   | 2/3 [00:00<00:00,  3.40it/s]"
          ],
          "name": "stderr"
        },
        {
          "output_type": "stream",
          "text": [
            "4\n"
          ],
          "name": "stdout"
        },
        {
          "output_type": "stream",
          "text": [
            "100%|██████████| 3/3 [00:00<00:00,  3.39it/s]\n",
            "  0%|          | 0/3 [00:00<?, ?it/s]"
          ],
          "name": "stderr"
        },
        {
          "output_type": "stream",
          "text": [
            "Epoch 4\n",
            "4\n"
          ],
          "name": "stdout"
        },
        {
          "output_type": "stream",
          "text": [
            "\r 33%|███▎      | 1/3 [00:00<00:00,  3.43it/s]"
          ],
          "name": "stderr"
        },
        {
          "output_type": "stream",
          "text": [
            "4\n"
          ],
          "name": "stdout"
        },
        {
          "output_type": "stream",
          "text": [
            "\r 67%|██████▋   | 2/3 [00:00<00:00,  3.43it/s]"
          ],
          "name": "stderr"
        },
        {
          "output_type": "stream",
          "text": [
            "4\n"
          ],
          "name": "stdout"
        },
        {
          "output_type": "stream",
          "text": [
            "100%|██████████| 3/3 [00:00<00:00,  3.40it/s]\n",
            "  0%|          | 0/3 [00:00<?, ?it/s]"
          ],
          "name": "stderr"
        },
        {
          "output_type": "stream",
          "text": [
            "Epoch 5\n",
            "4\n"
          ],
          "name": "stdout"
        },
        {
          "output_type": "stream",
          "text": [
            "\r 33%|███▎      | 1/3 [00:00<00:00,  3.40it/s]"
          ],
          "name": "stderr"
        },
        {
          "output_type": "stream",
          "text": [
            "4\n"
          ],
          "name": "stdout"
        },
        {
          "output_type": "stream",
          "text": [
            "\r 67%|██████▋   | 2/3 [00:00<00:00,  3.40it/s]"
          ],
          "name": "stderr"
        },
        {
          "output_type": "stream",
          "text": [
            "4\n"
          ],
          "name": "stdout"
        },
        {
          "output_type": "stream",
          "text": [
            "100%|██████████| 3/3 [00:00<00:00,  3.39it/s]\n",
            "  0%|          | 0/3 [00:00<?, ?it/s]"
          ],
          "name": "stderr"
        },
        {
          "output_type": "stream",
          "text": [
            "Epoch 6\n",
            "4\n"
          ],
          "name": "stdout"
        },
        {
          "output_type": "stream",
          "text": [
            "\r 33%|███▎      | 1/3 [00:00<00:00,  3.46it/s]"
          ],
          "name": "stderr"
        },
        {
          "output_type": "stream",
          "text": [
            "4\n"
          ],
          "name": "stdout"
        },
        {
          "output_type": "stream",
          "text": [
            "\r 67%|██████▋   | 2/3 [00:00<00:00,  3.43it/s]"
          ],
          "name": "stderr"
        },
        {
          "output_type": "stream",
          "text": [
            "4\n"
          ],
          "name": "stdout"
        },
        {
          "output_type": "stream",
          "text": [
            "100%|██████████| 3/3 [00:00<00:00,  3.41it/s]\n",
            "  0%|          | 0/3 [00:00<?, ?it/s]"
          ],
          "name": "stderr"
        },
        {
          "output_type": "stream",
          "text": [
            "Epoch 7\n",
            "4\n"
          ],
          "name": "stdout"
        },
        {
          "output_type": "stream",
          "text": [
            "\r 33%|███▎      | 1/3 [00:00<00:00,  3.42it/s]"
          ],
          "name": "stderr"
        },
        {
          "output_type": "stream",
          "text": [
            "4\n"
          ],
          "name": "stdout"
        },
        {
          "output_type": "stream",
          "text": [
            "\r 67%|██████▋   | 2/3 [00:00<00:00,  3.42it/s]"
          ],
          "name": "stderr"
        },
        {
          "output_type": "stream",
          "text": [
            "4\n"
          ],
          "name": "stdout"
        },
        {
          "output_type": "stream",
          "text": [
            "100%|██████████| 3/3 [00:00<00:00,  3.40it/s]\n",
            "  0%|          | 0/3 [00:00<?, ?it/s]"
          ],
          "name": "stderr"
        },
        {
          "output_type": "stream",
          "text": [
            "Epoch 8\n",
            "4\n"
          ],
          "name": "stdout"
        },
        {
          "output_type": "stream",
          "text": [
            "\r 33%|███▎      | 1/3 [00:00<00:00,  3.42it/s]"
          ],
          "name": "stderr"
        },
        {
          "output_type": "stream",
          "text": [
            "4\n"
          ],
          "name": "stdout"
        },
        {
          "output_type": "stream",
          "text": [
            "\r 67%|██████▋   | 2/3 [00:00<00:00,  3.41it/s]"
          ],
          "name": "stderr"
        },
        {
          "output_type": "stream",
          "text": [
            "4\n"
          ],
          "name": "stdout"
        },
        {
          "output_type": "stream",
          "text": [
            "100%|██████████| 3/3 [00:00<00:00,  3.40it/s]\n",
            "  0%|          | 0/3 [00:00<?, ?it/s]"
          ],
          "name": "stderr"
        },
        {
          "output_type": "stream",
          "text": [
            "Epoch 9\n",
            "4\n"
          ],
          "name": "stdout"
        },
        {
          "output_type": "stream",
          "text": [
            "\r 33%|███▎      | 1/3 [00:00<00:00,  3.40it/s]"
          ],
          "name": "stderr"
        },
        {
          "output_type": "stream",
          "text": [
            "4\n"
          ],
          "name": "stdout"
        },
        {
          "output_type": "stream",
          "text": [
            "\r 67%|██████▋   | 2/3 [00:00<00:00,  3.40it/s]"
          ],
          "name": "stderr"
        },
        {
          "output_type": "stream",
          "text": [
            "4\n"
          ],
          "name": "stdout"
        },
        {
          "output_type": "stream",
          "text": [
            "100%|██████████| 3/3 [00:00<00:00,  3.40it/s]\n",
            "  0%|          | 0/3 [00:00<?, ?it/s]"
          ],
          "name": "stderr"
        },
        {
          "output_type": "stream",
          "text": [
            "Epoch 10\n",
            "4\n"
          ],
          "name": "stdout"
        },
        {
          "output_type": "stream",
          "text": [
            "\r 33%|███▎      | 1/3 [00:00<00:00,  3.42it/s]"
          ],
          "name": "stderr"
        },
        {
          "output_type": "stream",
          "text": [
            "4\n"
          ],
          "name": "stdout"
        },
        {
          "output_type": "stream",
          "text": [
            "\r 67%|██████▋   | 2/3 [00:00<00:00,  3.41it/s]"
          ],
          "name": "stderr"
        },
        {
          "output_type": "stream",
          "text": [
            "4\n"
          ],
          "name": "stdout"
        },
        {
          "output_type": "stream",
          "text": [
            "100%|██████████| 3/3 [00:00<00:00,  3.39it/s]\n",
            "  0%|          | 0/3 [00:00<?, ?it/s]"
          ],
          "name": "stderr"
        },
        {
          "output_type": "stream",
          "text": [
            "Epoch 11\n",
            "4\n"
          ],
          "name": "stdout"
        },
        {
          "output_type": "stream",
          "text": [
            "\r 33%|███▎      | 1/3 [00:00<00:00,  3.44it/s]"
          ],
          "name": "stderr"
        },
        {
          "output_type": "stream",
          "text": [
            "4\n"
          ],
          "name": "stdout"
        },
        {
          "output_type": "stream",
          "text": [
            "\r 67%|██████▋   | 2/3 [00:00<00:00,  3.42it/s]"
          ],
          "name": "stderr"
        },
        {
          "output_type": "stream",
          "text": [
            "4\n"
          ],
          "name": "stdout"
        },
        {
          "output_type": "stream",
          "text": [
            "100%|██████████| 3/3 [00:00<00:00,  3.40it/s]\n",
            "  0%|          | 0/3 [00:00<?, ?it/s]"
          ],
          "name": "stderr"
        },
        {
          "output_type": "stream",
          "text": [
            "Epoch 12\n",
            "4\n"
          ],
          "name": "stdout"
        },
        {
          "output_type": "stream",
          "text": [
            "\r 33%|███▎      | 1/3 [00:00<00:00,  3.40it/s]"
          ],
          "name": "stderr"
        },
        {
          "output_type": "stream",
          "text": [
            "4\n"
          ],
          "name": "stdout"
        },
        {
          "output_type": "stream",
          "text": [
            "\r 67%|██████▋   | 2/3 [00:00<00:00,  3.40it/s]"
          ],
          "name": "stderr"
        },
        {
          "output_type": "stream",
          "text": [
            "4\n"
          ],
          "name": "stdout"
        },
        {
          "output_type": "stream",
          "text": [
            "100%|██████████| 3/3 [00:00<00:00,  3.40it/s]\n",
            "  0%|          | 0/3 [00:00<?, ?it/s]"
          ],
          "name": "stderr"
        },
        {
          "output_type": "stream",
          "text": [
            "Epoch 13\n",
            "4\n"
          ],
          "name": "stdout"
        },
        {
          "output_type": "stream",
          "text": [
            "\r 33%|███▎      | 1/3 [00:00<00:00,  3.43it/s]"
          ],
          "name": "stderr"
        },
        {
          "output_type": "stream",
          "text": [
            "4\n"
          ],
          "name": "stdout"
        },
        {
          "output_type": "stream",
          "text": [
            "\r 67%|██████▋   | 2/3 [00:00<00:00,  3.42it/s]"
          ],
          "name": "stderr"
        },
        {
          "output_type": "stream",
          "text": [
            "4\n"
          ],
          "name": "stdout"
        },
        {
          "output_type": "stream",
          "text": [
            "100%|██████████| 3/3 [00:00<00:00,  3.38it/s]\n",
            "  0%|          | 0/3 [00:00<?, ?it/s]"
          ],
          "name": "stderr"
        },
        {
          "output_type": "stream",
          "text": [
            "Epoch 14\n",
            "4\n"
          ],
          "name": "stdout"
        },
        {
          "output_type": "stream",
          "text": [
            "\r 33%|███▎      | 1/3 [00:00<00:00,  3.37it/s]"
          ],
          "name": "stderr"
        },
        {
          "output_type": "stream",
          "text": [
            "4\n"
          ],
          "name": "stdout"
        },
        {
          "output_type": "stream",
          "text": [
            "\r 67%|██████▋   | 2/3 [00:00<00:00,  3.38it/s]"
          ],
          "name": "stderr"
        },
        {
          "output_type": "stream",
          "text": [
            "4\n"
          ],
          "name": "stdout"
        },
        {
          "output_type": "stream",
          "text": [
            "100%|██████████| 3/3 [00:00<00:00,  3.37it/s]\n"
          ],
          "name": "stderr"
        }
      ]
    }
  ]
}