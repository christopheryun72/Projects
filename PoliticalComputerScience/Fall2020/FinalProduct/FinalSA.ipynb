{
  "nbformat": 4,
  "nbformat_minor": 0,
  "metadata": {
    "colab": {
      "name": "JudgesSA",
      "provenance": [],
      "collapsed_sections": []
    },
    "kernelspec": {
      "name": "python3",
      "display_name": "Python 3"
    },
    "accelerator": "GPU"
  },
  "cells": [
    {
      "cell_type": "code",
      "metadata": {
        "id": "c8wxkZTI6_E1"
      },
      "source": [
        "import re\n",
        "import numpy as np\n",
        "import pandas as pd\n",
        "import tensorflow as tf\n",
        "from sklearn.model_selection import train_test_split\n",
        "import matplotlib.pyplot as plt\n",
        "import string\n",
        "from keras.preprocessing.text import Tokenizer\n",
        "from tensorflow.keras.preprocessing import sequence"
      ],
      "execution_count": 1,
      "outputs": []
    },
    {
      "cell_type": "code",
      "metadata": {
        "id": "jTutzYDU7XaV"
      },
      "source": [
        "alito = pd.read_csv('alito.csv', encoding = \"ISO-8859-1\", engine='python')\n",
        "breyer = pd.read_csv('breyer.csv', encoding = \"ISO-8859-1\", engine='python')\n",
        "gorsuch = pd.read_csv('gorsuch.csv', encoding = \"ISO-8859-1\", engine='python')\n",
        "kagan = pd.read_csv('kagan.csv', encoding = \"ISO-8859-1\", engine='python')\n",
        "kavanaugh = pd.read_csv('kavanaugh.csv', encoding = \"ISO-8859-1\", engine='python')\n",
        "roberts = pd.read_csv('roberts.csv', encoding = \"ISO-8859-1\", engine='python')\n",
        "sotomayor = pd.read_csv('sotomayor.csv', encoding = \"ISO-8859-1\", engine='python')\n",
        "thomas = pd.read_csv('thomas.csv', encoding = \"ISO-8859-1\", engine='python')"
      ],
      "execution_count": 2,
      "outputs": []
    },
    {
      "cell_type": "code",
      "metadata": {
        "colab": {
          "base_uri": "https://localhost:8080/",
          "height": 251
        },
        "id": "79JdS4Ng7Vtv",
        "outputId": "76d7cb78-234d-43ef-d41a-e41b4067f915"
      },
      "source": [
        "dataset = pd.concat([alito, breyer, gorsuch, kagan, kavanaugh, roberts, sotomayor, thomas])\n",
        "dataset.columns= ['Sentence', 'Judge']\n",
        "print(pd.unique(dataset['Judge']))\n",
        "print(\"Shape of Dataset:\", dataset.shape)\n",
        "dataset.head()"
      ],
      "execution_count": 3,
      "outputs": [
        {
          "output_type": "stream",
          "text": [
            "['Alito' 'Breyer' 'Gorsuch' 'Kagan' 'Kavanaugh' 'Roberts' 'SOTOMAYOR'\n",
            " 'Thomas']\n",
            "Shape of Dataset: (11972, 2)\n"
          ],
          "name": "stdout"
        },
        {
          "output_type": "execute_result",
          "data": {
            "text/html": [
              "<div>\n",
              "<style scoped>\n",
              "    .dataframe tbody tr th:only-of-type {\n",
              "        vertical-align: middle;\n",
              "    }\n",
              "\n",
              "    .dataframe tbody tr th {\n",
              "        vertical-align: top;\n",
              "    }\n",
              "\n",
              "    .dataframe thead th {\n",
              "        text-align: right;\n",
              "    }\n",
              "</style>\n",
              "<table border=\"1\" class=\"dataframe\">\n",
              "  <thead>\n",
              "    <tr style=\"text-align: right;\">\n",
              "      <th></th>\n",
              "      <th>Sentence</th>\n",
              "      <th>Judge</th>\n",
              "    </tr>\n",
              "  </thead>\n",
              "  <tbody>\n",
              "    <tr>\n",
              "      <th>0</th>\n",
              "      <td>These cases concern the interplay between two...</td>\n",
              "      <td>Alito</td>\n",
              "    </tr>\n",
              "    <tr>\n",
              "      <th>1</th>\n",
              "      <td>Section 402(b) of the Clean Water Act require...</td>\n",
              "      <td>Alito</td>\n",
              "    </tr>\n",
              "    <tr>\n",
              "      <th>2</th>\n",
              "      <td>Section 7(a)(2) of the Endangered Species Act...</td>\n",
              "      <td>Alito</td>\n",
              "    </tr>\n",
              "    <tr>\n",
              "      <th>3</th>\n",
              "      <td>â The question presented is whether Â§7(a)(2...</td>\n",
              "      <td>Alito</td>\n",
              "    </tr>\n",
              "    <tr>\n",
              "      <th>4</th>\n",
              "      <td>We conclude that it does not</td>\n",
              "      <td>Alito</td>\n",
              "    </tr>\n",
              "  </tbody>\n",
              "</table>\n",
              "</div>"
            ],
            "text/plain": [
              "                                            Sentence  Judge\n",
              "0   These cases concern the interplay between two...  Alito\n",
              "1   Section 402(b) of the Clean Water Act require...  Alito\n",
              "2   Section 7(a)(2) of the Endangered Species Act...  Alito\n",
              "3  â The question presented is whether Â§7(a)(2...  Alito\n",
              "4                       We conclude that it does not  Alito"
            ]
          },
          "metadata": {
            "tags": []
          },
          "execution_count": 3
        }
      ]
    },
    {
      "cell_type": "code",
      "metadata": {
        "colab": {
          "base_uri": "https://localhost:8080/",
          "height": 335
        },
        "id": "Hc6MH7nM_doh",
        "outputId": "17e958bd-e5ba-4215-f393-7c3f7191da4a"
      },
      "source": [
        "dataset['Judge'].value_counts().sort_index().plot.bar()"
      ],
      "execution_count": 4,
      "outputs": [
        {
          "output_type": "execute_result",
          "data": {
            "text/plain": [
              "<matplotlib.axes._subplots.AxesSubplot at 0x7fbe6a9968d0>"
            ]
          },
          "metadata": {
            "tags": []
          },
          "execution_count": 4
        },
        {
          "output_type": "display_data",
          "data": {
            "image/png": "[encoded data removed]",
            "text/plain": [
              "<Figure size 432x288 with 1 Axes>"
            ]
          },
          "metadata": {
            "tags": [],
            "needs_background": "light"
          }
        }
      ]
    },
    {
      "cell_type": "code",
      "metadata": {
        "colab": {
          "base_uri": "https://localhost:8080/",
          "height": 282
        },
        "id": "jwyYWo4J_fle",
        "outputId": "4ae4aca8-4628-4b6b-c1c8-bd3291e594af"
      },
      "source": [
        "dataset['Sentence'].str.len().plot.hist()"
      ],
      "execution_count": 5,
      "outputs": [
        {
          "output_type": "execute_result",
          "data": {
            "text/plain": [
              "<matplotlib.axes._subplots.AxesSubplot at 0x7fbe6a8dcc88>"
            ]
          },
          "metadata": {
            "tags": []
          },
          "execution_count": 5
        },
        {
          "output_type": "display_data",
          "data": {
            "image/png": "[encoded data removed]",
            "text/plain": [
              "<Figure size 432x288 with 1 Axes>"
            ]
          },
          "metadata": {
            "tags": [],
            "needs_background": "light"
          }
        }
      ]
    },
    {
      "cell_type": "code",
      "metadata": {
        "colab": {
          "base_uri": "https://localhost:8080/",
          "height": 197
        },
        "id": "hcr0jtkx_qaP",
        "outputId": "1cf3134b-e154-40c4-8b38-9b2705f339e4"
      },
      "source": [
        "dataset['Sentence'] = dataset['Sentence'].apply(lambda x: x.lower())\n",
        "dataset.head()"
      ],
      "execution_count": 6,
      "outputs": [
        {
          "output_type": "execute_result",
          "data": {
            "text/html": [
              "<div>\n",
              "<style scoped>\n",
              "    .dataframe tbody tr th:only-of-type {\n",
              "        vertical-align: middle;\n",
              "    }\n",
              "\n",
              "    .dataframe tbody tr th {\n",
              "        vertical-align: top;\n",
              "    }\n",
              "\n",
              "    .dataframe thead th {\n",
              "        text-align: right;\n",
              "    }\n",
              "</style>\n",
              "<table border=\"1\" class=\"dataframe\">\n",
              "  <thead>\n",
              "    <tr style=\"text-align: right;\">\n",
              "      <th></th>\n",
              "      <th>Sentence</th>\n",
              "      <th>Judge</th>\n",
              "    </tr>\n",
              "  </thead>\n",
              "  <tbody>\n",
              "    <tr>\n",
              "      <th>0</th>\n",
              "      <td>these cases concern the interplay between two...</td>\n",
              "      <td>Alito</td>\n",
              "    </tr>\n",
              "    <tr>\n",
              "      <th>1</th>\n",
              "      <td>section 402(b) of the clean water act require...</td>\n",
              "      <td>Alito</td>\n",
              "    </tr>\n",
              "    <tr>\n",
              "      <th>2</th>\n",
              "      <td>section 7(a)(2) of the endangered species act...</td>\n",
              "      <td>Alito</td>\n",
              "    </tr>\n",
              "    <tr>\n",
              "      <th>3</th>\n",
              "      <td>â the question presented is whether â§7(a)(2...</td>\n",
              "      <td>Alito</td>\n",
              "    </tr>\n",
              "    <tr>\n",
              "      <th>4</th>\n",
              "      <td>we conclude that it does not</td>\n",
              "      <td>Alito</td>\n",
              "    </tr>\n",
              "  </tbody>\n",
              "</table>\n",
              "</div>"
            ],
            "text/plain": [
              "                                            Sentence  Judge\n",
              "0   these cases concern the interplay between two...  Alito\n",
              "1   section 402(b) of the clean water act require...  Alito\n",
              "2   section 7(a)(2) of the endangered species act...  Alito\n",
              "3  â the question presented is whether â§7(a)(2...  Alito\n",
              "4                       we conclude that it does not  Alito"
            ]
          },
          "metadata": {
            "tags": []
          },
          "execution_count": 6
        }
      ]
    },
    {
      "cell_type": "code",
      "metadata": {
        "colab": {
          "base_uri": "https://localhost:8080/",
          "height": 197
        },
        "id": "aTxTmOGoJB24",
        "outputId": "277b609f-471d-492f-90ac-871ba9cf1dc1"
      },
      "source": [
        "\n",
        "def clean_text(data):\n",
        "  words = data.split()\n",
        "  table = str.maketrans('', '', string.punctuation)\n",
        "  words = [word.translate(table) for word in words]\n",
        "  words = [word for word in words if word.isalpha() ]\n",
        "  words = [word.lower() for word in words]\n",
        "  return ' '.join(words)\n",
        "\n",
        "dataset['Sentence'] = dataset['Sentence'].apply(clean_text)\n",
        "dataset.head()"
      ],
      "execution_count": 7,
      "outputs": [
        {
          "output_type": "execute_result",
          "data": {
            "text/html": [
              "<div>\n",
              "<style scoped>\n",
              "    .dataframe tbody tr th:only-of-type {\n",
              "        vertical-align: middle;\n",
              "    }\n",
              "\n",
              "    .dataframe tbody tr th {\n",
              "        vertical-align: top;\n",
              "    }\n",
              "\n",
              "    .dataframe thead th {\n",
              "        text-align: right;\n",
              "    }\n",
              "</style>\n",
              "<table border=\"1\" class=\"dataframe\">\n",
              "  <thead>\n",
              "    <tr style=\"text-align: right;\">\n",
              "      <th></th>\n",
              "      <th>Sentence</th>\n",
              "      <th>Judge</th>\n",
              "    </tr>\n",
              "  </thead>\n",
              "  <tbody>\n",
              "    <tr>\n",
              "      <th>0</th>\n",
              "      <td>these cases concern the interplay between two ...</td>\n",
              "      <td>Alito</td>\n",
              "    </tr>\n",
              "    <tr>\n",
              "      <th>1</th>\n",
              "      <td>section of the clean water act requires that t...</td>\n",
              "      <td>Alito</td>\n",
              "    </tr>\n",
              "    <tr>\n",
              "      <th>2</th>\n",
              "      <td>section of the endangered species act of provi...</td>\n",
              "      <td>Alito</td>\n",
              "    </tr>\n",
              "    <tr>\n",
              "      <th>3</th>\n",
              "      <td>the question presented is whether effectively ...</td>\n",
              "      <td>Alito</td>\n",
              "    </tr>\n",
              "    <tr>\n",
              "      <th>4</th>\n",
              "      <td>we conclude that it does not</td>\n",
              "      <td>Alito</td>\n",
              "    </tr>\n",
              "  </tbody>\n",
              "</table>\n",
              "</div>"
            ],
            "text/plain": [
              "                                            Sentence  Judge\n",
              "0  these cases concern the interplay between two ...  Alito\n",
              "1  section of the clean water act requires that t...  Alito\n",
              "2  section of the endangered species act of provi...  Alito\n",
              "3  the question presented is whether effectively ...  Alito\n",
              "4                       we conclude that it does not  Alito"
            ]
          },
          "metadata": {
            "tags": []
          },
          "execution_count": 7
        }
      ]
    },
    {
      "cell_type": "code",
      "metadata": {
        "colab": {
          "base_uri": "https://localhost:8080/"
        },
        "id": "b5hstklJ_s2u",
        "outputId": "7f4b715b-3871-4621-b222-1baa25b43bd1"
      },
      "source": [
        "tokenizer = Tokenizer(num_words=5000, split=\" \")\n",
        "tokenizer.fit_on_texts(dataset['Sentence'].values)\n",
        "X = tokenizer.texts_to_sequences(dataset['Sentence'].values)\n",
        "X = sequence.pad_sequences(X)\n",
        "pd.unique(dataset['Judge'])"
      ],
      "execution_count": 8,
      "outputs": [
        {
          "output_type": "execute_result",
          "data": {
            "text/plain": [
              "array(['Alito', 'Breyer', 'Gorsuch', 'Kagan', 'Kavanaugh', 'Roberts',\n",
              "       'SOTOMAYOR', 'Thomas'], dtype=object)"
            ]
          },
          "metadata": {
            "tags": []
          },
          "execution_count": 8
        }
      ]
    },
    {
      "cell_type": "code",
      "metadata": {
        "colab": {
          "base_uri": "https://localhost:8080/"
        },
        "id": "fOvPfhfX_woZ",
        "outputId": "b50d8900-142a-4341-ae0b-a87181170147"
      },
      "source": [
        "msaModel = tf.keras.models.Sequential()\n",
        "msaModel.add(tf.keras.layers.Embedding(5000, 128, input_length= X.shape[1]))\n",
        "msaModel.add(tf.keras.layers.Dropout(rate=0.2))\n",
        "msaModel.add(tf.keras.layers.LSTM(units=128, return_sequences=True, dropout=0.2, recurrent_dropout=0.2))\n",
        "msaModel.add(tf.keras.layers.LSTM(units=128, return_sequences=True, dropout=0.2, recurrent_dropout=0.2))\n",
        "msaModel.add(tf.keras.layers.LSTM(units=128, return_sequences=False, dropout=0.2, recurrent_dropout=0.2))\n",
        "msaModel.add(tf.keras.layers.Dense(8, activation='softmax'))\n",
        "msaModel.compile(optimizer='adam', loss=tf.keras.losses.CategoricalCrossentropy(), metrics=['accuracy'])\n",
        "msaModel.summary()"
      ],
      "execution_count": 9,
      "outputs": [
        {
          "output_type": "stream",
          "text": [
            "WARNING:tensorflow:Layer lstm will not use cuDNN kernel since it doesn't meet the cuDNN kernel criteria. It will use generic GPU kernel as fallback when running on GPU\n",
            "WARNING:tensorflow:Layer lstm_1 will not use cuDNN kernel since it doesn't meet the cuDNN kernel criteria. It will use generic GPU kernel as fallback when running on GPU\n",
            "WARNING:tensorflow:Layer lstm_2 will not use cuDNN kernel since it doesn't meet the cuDNN kernel criteria. It will use generic GPU kernel as fallback when running on GPU\n",
            "Model: \"sequential\"\n",
            "_________________________________________________________________\n",
            "Layer (type)                 Output Shape              Param #   \n",
            "=================================================================\n",
            "embedding (Embedding)        (None, 676, 128)          640000    \n",
            "_________________________________________________________________\n",
            "dropout (Dropout)            (None, 676, 128)          0         \n",
            "_________________________________________________________________\n",
            "lstm (LSTM)                  (None, 676, 128)          131584    \n",
            "_________________________________________________________________\n",
            "lstm_1 (LSTM)                (None, 676, 128)          131584    \n",
            "_________________________________________________________________\n",
            "lstm_2 (LSTM)                (None, 128)               131584    \n",
            "_________________________________________________________________\n",
            "dense (Dense)                (None, 8)                 1032      \n",
            "=================================================================\n",
            "Total params: 1,035,784\n",
            "Trainable params: 1,035,784\n",
            "Non-trainable params: 0\n",
            "_________________________________________________________________\n"
          ],
          "name": "stdout"
        }
      ]
    },
    {
      "cell_type": "code",
      "metadata": {
        "colab": {
          "base_uri": "https://localhost:8080/"
        },
        "id": "eL5P_hIY_0NH",
        "outputId": "c9d0927a-b8a0-4138-e49c-c26eb6ac9d15"
      },
      "source": [
        "y = pd.get_dummies(dataset['Judge']).values\n",
        "[print(dataset['Judge'][i], y[i]) for i in range(5)]"
      ],
      "execution_count": 10,
      "outputs": [
        {
          "output_type": "stream",
          "text": [
            "0        Alito\n",
            "0       Breyer\n",
            "0      Gorsuch\n",
            "0        Kagan\n",
            "0    Kavanaugh\n",
            "0      Roberts\n",
            "0    SOTOMAYOR\n",
            "0       Thomas\n",
            "Name: Judge, dtype: object [1 0 0 0 0 0 0 0]\n",
            "1        Alito\n",
            "1       Breyer\n",
            "1      Gorsuch\n",
            "1        Kagan\n",
            "1    Kavanaugh\n",
            "1      Roberts\n",
            "1    SOTOMAYOR\n",
            "1       Thomas\n",
            "Name: Judge, dtype: object [1 0 0 0 0 0 0 0]\n",
            "2        Alito\n",
            "2       Breyer\n",
            "2      Gorsuch\n",
            "2        Kagan\n",
            "2    Kavanaugh\n",
            "2      Roberts\n",
            "2    SOTOMAYOR\n",
            "2       Thomas\n",
            "Name: Judge, dtype: object [1 0 0 0 0 0 0 0]\n",
            "3        Alito\n",
            "3       Breyer\n",
            "3      Gorsuch\n",
            "3        Kagan\n",
            "3    Kavanaugh\n",
            "3      Roberts\n",
            "3    SOTOMAYOR\n",
            "3       Thomas\n",
            "Name: Judge, dtype: object [1 0 0 0 0 0 0 0]\n",
            "4        Alito\n",
            "4       Breyer\n",
            "4      Gorsuch\n",
            "4        Kagan\n",
            "4    Kavanaugh\n",
            "4      Roberts\n",
            "4    SOTOMAYOR\n",
            "4       Thomas\n",
            "Name: Judge, dtype: object [1 0 0 0 0 0 0 0]\n"
          ],
          "name": "stdout"
        },
        {
          "output_type": "execute_result",
          "data": {
            "text/plain": [
              "[None, None, None, None, None]"
            ]
          },
          "metadata": {
            "tags": []
          },
          "execution_count": 10
        }
      ]
    },
    {
      "cell_type": "code",
      "metadata": {
        "colab": {
          "base_uri": "https://localhost:8080/"
        },
        "id": "8Noh0B2g_5pW",
        "outputId": "a9576d1a-c36b-477f-cf12-cb2a94286b74"
      },
      "source": [
        "X_train, X_test, y_train, y_test = train_test_split(X, y, test_size=0.2, random_state=0)\n",
        "msaModel.fit(X_train, y_train, epochs=15, batch_size=128, verbose=2)"
      ],
      "execution_count": 11,
      "outputs": [
        {
          "output_type": "stream",
          "text": [
            "Epoch 1/15\n",
            "75/75 - 475s - loss: 1.8700 - accuracy: 0.2812\n",
            "Epoch 2/15\n",
            "75/75 - 474s - loss: 1.4817 - accuracy: 0.4174\n",
            "Epoch 3/15\n",
            "75/75 - 473s - loss: 1.0247 - accuracy: 0.6216\n",
            "Epoch 4/15\n",
            "75/75 - 473s - loss: 0.7157 - accuracy: 0.7522\n",
            "Epoch 5/15\n",
            "75/75 - 472s - loss: 0.5817 - accuracy: 0.7985\n",
            "Epoch 6/15\n",
            "75/75 - 473s - loss: 0.4799 - accuracy: 0.8344\n",
            "Epoch 7/15\n",
            "75/75 - 472s - loss: 0.4104 - accuracy: 0.8550\n",
            "Epoch 8/15\n",
            "75/75 - 471s - loss: 0.3794 - accuracy: 0.8662\n",
            "Epoch 9/15\n",
            "75/75 - 472s - loss: 0.3508 - accuracy: 0.8784\n",
            "Epoch 10/15\n",
            "75/75 - 472s - loss: 0.3241 - accuracy: 0.8869\n",
            "Epoch 11/15\n",
            "75/75 - 474s - loss: 0.2931 - accuracy: 0.8942\n",
            "Epoch 12/15\n",
            "75/75 - 475s - loss: 0.2887 - accuracy: 0.8987\n",
            "Epoch 13/15\n",
            "75/75 - 479s - loss: 0.2725 - accuracy: 0.9018\n",
            "Epoch 14/15\n",
            "75/75 - 481s - loss: 0.2620 - accuracy: 0.9049\n",
            "Epoch 15/15\n",
            "75/75 - 484s - loss: 0.2494 - accuracy: 0.9106\n"
          ],
          "name": "stdout"
        },
        {
          "output_type": "execute_result",
          "data": {
            "text/plain": [
              "<tensorflow.python.keras.callbacks.History at 0x7fbe600d3f28>"
            ]
          },
          "metadata": {
            "tags": []
          },
          "execution_count": 11
        }
      ]
    },
    {
      "cell_type": "code",
      "metadata": {
        "id": "QwX2B2Q-_8mA"
      },
      "source": [
        "msaModel.save('ThreeJudgesSA.h5')"
      ],
      "execution_count": 12,
      "outputs": []
    },
    {
      "cell_type": "code",
      "metadata": {
        "id": "c51fz7mMAWcG"
      },
      "source": [
        "results = []\n",
        "counter = 0\n",
        "resultsDF = pd.DataFrame(columns=['Inputs'])\n",
        "while counter < 3:\n",
        "  in_sentence = input(\"Enter Sentence: \")\n",
        "  tempDF = pd.DataFrame({'Inputs':[in_sentence]})\n",
        "  prediction = msaModel.predict(tempDF)\n",
        "  if prediction not in results:\n",
        "    counter += 1\n",
        "    results.append(prediction)\n",
        "    print(str(3-counter) + ' more inputs!')\n",
        "  else:\n",
        "    print('Try Again!')"
      ],
      "execution_count": null,
      "outputs": []
    },
    {
      "cell_type": "code",
      "metadata": {
        "id": "cRDCI73SDpUB"
      },
      "source": [
        "df = pd.DataFrame({'Predictions': results})\n",
        "df.to_csv('ThreeJudgesSA.csv')"
      ],
      "execution_count": null,
      "outputs": []
    }
  ]
}